{
 "cells": [
  {
   "cell_type": "code",
   "execution_count": 27,
   "id": "69ba3757",
   "metadata": {},
   "outputs": [],
   "source": [
    "from pathlib import Path\n",
    "import pandas as pd\n",
    "\n",
    "import emoji\n",
    "import preprocessor as p\n",
    "import truecase\n",
    "\n",
    "p.set_options(p.OPT.URL)"
   ]
  },
  {
   "cell_type": "markdown",
   "id": "0497b586",
   "metadata": {},
   "source": [
    "# Preprocessing Function"
   ]
  },
  {
   "cell_type": "code",
   "execution_count": 28,
   "id": "03fbd292",
   "metadata": {},
   "outputs": [],
   "source": [
    "def lowercasing(sentence):\n",
    "    return str(sentence).lower()\n",
    "\n",
    "def truecasing(sentence):\n",
    "    \"\"\" Alternative function to 'lowercasing().\n",
    "        Instead of turning everything into lower case, the grammatically true case\n",
    "        is used.\"\"\"\n",
    "    return truecase.get_true_case(str(sentence))\n",
    "\n",
    "def rm_whitespace(sentence):\n",
    "    return str(sentence).strip()\n",
    "\n",
    "def replace_emoji(sentence):\n",
    "    return emoji.demojize(str(sentence))\n",
    "\n",
    "def replace_url(sentence):\n",
    "    return p.tokenize(str(sentence))"
   ]
  },
  {
   "cell_type": "code",
   "execution_count": 29,
   "id": "821ece16",
   "metadata": {},
   "outputs": [
    {
     "data": {
      "text/plain": [
       "'Preprocessor is #awesome :thumbs_up: Https: //$URL$'"
      ]
     },
     "execution_count": 29,
     "metadata": {},
     "output_type": "execute_result"
    }
   ],
   "source": [
    "def preprocessing(s):\n",
    "    #s = lowercasing(s)\n",
    "    s = truecasing(s)\n",
    "    s = rm_whitespace(s)\n",
    "    s = replace_emoji(s)    \n",
    "    s = replace_url(s)\n",
    "    return s\n",
    "\n",
    "\n",
    "#e.g.\n",
    "s = ' Preprocessor is #awesome 👍 https://github.com/s/preprocessor '\n",
    "preprocessing(s)"
   ]
  },
  {
   "cell_type": "code",
   "execution_count": 30,
   "id": "44efbbef",
   "metadata": {},
   "outputs": [],
   "source": [
    "def one_hot_encoding(df, column):\n",
    "    \"\"\" One-hot encoding for a column in a dataframe \"\"\"\n",
    "    one_hot_df = pd.get_dummies(df[column])\n",
    "    df[column] = one_hot_df.apply(lambda x: x.argmax(), axis=1)\n",
    "    return df\n"
   ]
  },
  {
   "cell_type": "markdown",
   "id": "f1eb76d8",
   "metadata": {},
   "source": [
    "# Files cleaning"
   ]
  },
  {
   "cell_type": "code",
   "execution_count": 31,
   "id": "52dc4e5c",
   "metadata": {},
   "outputs": [
    {
     "name": "stdout",
     "output_type": "stream",
     "text": [
      "[PosixPath('data/practise_data/development_test.csv'), PosixPath('data/practise_data/development_train.csv'), PosixPath('data/practise_data/cleaned/cleaned_development_train.csv'), PosixPath('data/practise_data/cleaned/cleaned_development_test.csv')]\n"
     ]
    }
   ],
   "source": [
    "datafolder = Path(\"./data/practise_data\")\n",
    "print(list(datafolder.rglob('*.csv')))\n",
    "\n",
    "train_f= Path('data/practise_data/development_train.csv')\n",
    "test_f= Path('data/practise_data/development_test.csv')"
   ]
  },
  {
   "cell_type": "code",
   "execution_count": 32,
   "id": "f7f4e27e",
   "metadata": {},
   "outputs": [],
   "source": [
    "def clean_df(df, f_path):\n",
    "    df[\"cleaned_tweet\"] = df[\"tweet\"].apply(lambda s: preprocessing(s))\n",
    "\n",
    "    df = one_hot_encoding(df, 'gender')\n",
    "    df = one_hot_encoding(df, 'profession')\n",
    "    df = one_hot_encoding(df, 'ideology_binary')\n",
    "    df = one_hot_encoding(df, 'ideology_multiclass')\n",
    "\n",
    "    df_path = f_path.parent/\"cleaned\"/f\"cleaned_{f_path.name}\"\n",
    "    df_path.parent.mkdir(parents=True, exist_ok=True)\n",
    "    df.to_csv(df_path)\n",
    "    return df_path"
   ]
  },
  {
   "cell_type": "code",
   "execution_count": 33,
   "id": "e8ae59a3",
   "metadata": {},
   "outputs": [],
   "source": [
    "train_df = pd.read_csv(train_f)\n",
    "test_df = pd.read_csv(test_f)"
   ]
  },
  {
   "cell_type": "code",
   "execution_count": 34,
   "id": "d11ecdf9",
   "metadata": {},
   "outputs": [
    {
     "data": {
      "text/plain": [
       "PosixPath('data/practise_data/cleaned/cleaned_development_test.csv')"
      ]
     },
     "execution_count": 34,
     "metadata": {},
     "output_type": "execute_result"
    }
   ],
   "source": [
    "clean_df(train_df,train_f)\n",
    "clean_df(test_df,test_f)"
   ]
  },
  {
   "cell_type": "code",
   "execution_count": 35,
   "metadata": {
    "collapsed": false
   },
   "outputs": [
    {
     "name": "stdout",
     "output_type": "stream",
     "text": [
      "female,politician,left 200\n",
      "female,politician,right 80\n",
      "female,politician,moderate_left 200\n",
      "female,politician,moderate_right 200\n",
      "female,journalist,left 120\n",
      "female,journalist,right 40\n",
      "female,journalist,moderate_left 280\n",
      "female,journalist,moderate_right 120\n",
      "female,celebrity,left 0\n",
      "female,celebrity,right 0\n",
      "female,celebrity,moderate_left 120\n",
      "female,celebrity,moderate_right 0\n",
      "male,politician,left 120\n",
      "male,politician,right 120\n",
      "male,politician,moderate_left 320\n",
      "male,politician,moderate_right 160\n",
      "male,journalist,left 200\n",
      "male,journalist,right 200\n",
      "male,journalist,moderate_left 480\n",
      "male,journalist,moderate_right 600\n",
      "male,celebrity,left 0\n",
      "male,celebrity,right 0\n",
      "male,celebrity,moderate_left 40\n",
      "male,celebrity,moderate_right 0\n"
     ]
    }
   ],
   "source": [
    "# spilt csv data into train and validation by category\n",
    "from pathlib import Path\n",
    "import pandas as pd\n",
    "\n",
    "fulldata= Path('/Users/abby/Desktop/UZH/Courses/NLP2/Project/code/IberLEF2023/data/practise_data/development_test.csv')\n",
    "df = pd.read_csv(fulldata)\n",
    "\n",
    "\n",
    "from itertools import combinations\n",
    "\n",
    "gender  = ['female','male']\n",
    "profession = ['politician','journalist','celebrity']\n",
    "ideology_multiclass = ['left','right','moderate_left', 'moderate_right']\n",
    "\n",
    "for i in gender:\n",
    "    for j in profession:\n",
    "        for k in ideology_multiclass:\n",
    "            selected_df = df.iloc[\n",
    "                list((df.gender == i) & \\\n",
    "                    (df.profession == j)& \\\n",
    "                    (df.ideology_multiclass == k)), \n",
    "                :,\n",
    "            ]\n",
    "            print(f\"{i},{j},{k}\",len(selected_df))\n",
    "\n"
   ]
  },
  {
   "cell_type": "code",
   "execution_count": null,
   "id": "3b3e6562",
   "metadata": {},
   "outputs": [],
   "source": []
  }
 ],
 "metadata": {
  "kernelspec": {
   "display_name": "Python 3 (ipykernel)",
   "language": "python",
   "name": "python3"
  },
  "language_info": {
   "codemirror_mode": {
    "name": "ipython",
    "version": 3
   },
   "file_extension": ".py",
   "mimetype": "text/x-python",
   "name": "python",
   "nbconvert_exporter": "python",
   "pygments_lexer": "ipython3",
   "version": "3.10.9"
  }
 },
 "nbformat": 4,
 "nbformat_minor": 5
}
