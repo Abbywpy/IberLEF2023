{
 "cells": [
  {
   "cell_type": "code",
   "execution_count": 10,
   "id": "69ba3757",
   "metadata": {},
   "outputs": [
    {
     "name": "stderr",
     "output_type": "stream",
     "text": [
      "[nltk_data] Downloading package punkt to\n",
      "[nltk_data]     /Users/eliasschuhmacher/nltk_data...\n",
      "[nltk_data]   Package punkt is already up-to-date!\n"
     ]
    },
    {
     "data": {
      "text/plain": [
       "True"
      ]
     },
     "execution_count": 10,
     "metadata": {},
     "output_type": "execute_result"
    }
   ],
   "source": [
    "from pathlib import Path\n",
    "import pandas as pd\n",
    "import numpy as np\n",
    "import matplotlib.pyplot as plt\n",
    "\n",
    "import emoji\n",
    "import preprocessor as p\n",
    "import truecase\n",
    "import nltk\n",
    "from sklearn.utils import resample\n",
    "\n",
    "p.set_options(p.OPT.URL)\n",
    "nltk.download('punkt')"
   ]
  },
  {
   "cell_type": "markdown",
   "id": "0497b586",
   "metadata": {},
   "source": [
    "# Preprocessing Function"
   ]
  },
  {
   "cell_type": "code",
   "execution_count": 6,
   "id": "03fbd292",
   "metadata": {},
   "outputs": [],
   "source": [
    "def lowercasing(sentence):\n",
    "    return str(sentence).lower()\n",
    "\n",
    "def truecasing(sentence):\n",
    "    \"\"\" Alternative function to 'lowercasing().\n",
    "        Instead of turning everything into lower case, the grammatically true case\n",
    "        is used.\"\"\"\n",
    "    return truecase.get_true_case(str(sentence))\n",
    "\n",
    "def rm_whitespace(sentence):\n",
    "    return str(sentence).strip()\n",
    "\n",
    "def replace_emoji(sentence):\n",
    "    return emoji.demojize(str(sentence))\n",
    "\n",
    "def replace_url(sentence):\n",
    "    return p.tokenize(str(sentence))\n",
    "\n",
    "def replace_url(sentence):\n",
    "    new_text = []\n",
    "    for t in sentence.split(\" \"):\n",
    "        #t = '@user' if t.startswith('@') and len(t) > 1 else t\n",
    "        t = 'http' if t.startswith('http') else t\n",
    "        new_text.append(t)\n",
    "    return \" \".join(new_text)"
   ]
  },
  {
   "cell_type": "code",
   "execution_count": 7,
   "id": "821ece16",
   "metadata": {},
   "outputs": [
    {
     "data": {
      "text/plain": [
       "'Preprocessor is #awesome :thumbs_up: http'"
      ]
     },
     "execution_count": 7,
     "metadata": {},
     "output_type": "execute_result"
    }
   ],
   "source": [
    "def preprocessing(s):\n",
    "    #s = lowercasing(s)\n",
    "    #s = truecasing(s)\n",
    "    s = rm_whitespace(s)\n",
    "    s = replace_emoji(s)    \n",
    "    s = replace_url(s)\n",
    "    return s\n",
    "\n",
    "\n",
    "#e.g.\n",
    "s = ' Preprocessor is #awesome 👍 https://github.com/s/preprocessor '\n",
    "preprocessing(s)"
   ]
  },
  {
   "attachments": {},
   "cell_type": "markdown",
   "id": "13121707",
   "metadata": {},
   "source": [
    "## Encoding Attributes"
   ]
  },
  {
   "cell_type": "code",
   "execution_count": 8,
   "id": "44efbbef",
   "metadata": {},
   "outputs": [],
   "source": [
    "def one_hot_encoding(df, column):\n",
    "    \"\"\" One-hot encoding for a column in a dataframe \"\"\"\n",
    "    one_hot_df = pd.get_dummies(df[column])\n",
    "    df[column] = one_hot_df.apply(lambda x: x.argmax(), axis=1)\n",
    "    return df\n"
   ]
  },
  {
   "cell_type": "markdown",
   "id": "f1eb76d8",
   "metadata": {},
   "source": [
    "# Files cleaning"
   ]
  },
  {
   "cell_type": "code",
   "execution_count": 9,
   "id": "52dc4e5c",
   "metadata": {},
   "outputs": [
    {
     "name": "stdout",
     "output_type": "stream",
     "text": [
      "[PosixPath('data/practise_data/development_test.csv'), PosixPath('data/practise_data/development_train.csv'), PosixPath('data/practise_data/cleaned/cleaned_encoded_development_train.csv'), PosixPath('data/practise_data/cleaned/cleaned_encoded_development_test.csv'), PosixPath('data/practise_data/cleaned/_old/cleaned_encoded_development_train.csv'), PosixPath('data/practise_data/cleaned/_old/cleaned_development_train.csv'), PosixPath('data/practise_data/cleaned/_old/cleaned_encoded_development_test.csv'), PosixPath('data/practise_data/cleaned/_old/cleaned_development_test.csv')]\n"
     ]
    }
   ],
   "source": [
    "datafolder = Path(\"./data/practise_data\")\n",
    "print(list(datafolder.rglob('*.csv')))\n",
    "\n",
    "train_f= Path('data/practise_data/development_train.csv')\n",
    "test_f= Path('data/practise_data/development_test.csv')\n",
    "full_f= Path('data/full_data/full_data.csv')\n",
    "test_f= Path('data/test_data/politicES_phase_2_test_public.csv')\n"
   ]
  },
  {
   "cell_type": "code",
   "execution_count": 10,
   "id": "f7f4e27e",
   "metadata": {},
   "outputs": [],
   "source": [
    "def clean_df(df, f_path):\n",
    "    df[\"cleaned_tweet\"] = df[\"tweet\"].apply(lambda s: preprocessing(s))\n",
    "\n",
    "    df = one_hot_encoding(df, 'gender')\n",
    "    df = one_hot_encoding(df, 'profession')\n",
    "    df = one_hot_encoding(df, 'ideology_binary')\n",
    "    df = one_hot_encoding(df, 'ideology_multiclass')\n",
    "\n",
    "    df_path = f_path.parent/\"cleaned\"/f\"cleaned_encoded_{f_path.name}\"\n",
    "    df_path.parent.mkdir(parents=True, exist_ok=True)\n",
    "    df.to_csv(df_path)\n",
    "    return df_path"
   ]
  },
  {
   "cell_type": "code",
   "execution_count": 11,
   "id": "694649c8",
   "metadata": {},
   "outputs": [],
   "source": [
    "def clean_df_test_data(df, f_path):\n",
    "    df[\"cleaned_tweet\"] = df[\"tweet\"].apply(lambda s: preprocessing(s))\n",
    "\n",
    "    df_path = f_path.parent/\"cleaned\"/f\"cleaned_{f_path.name}\"\n",
    "    df_path.parent.mkdir(parents=True, exist_ok=True)\n",
    "    df.to_csv(df_path)\n",
    "    return df_path"
   ]
  },
  {
   "cell_type": "code",
   "execution_count": 8,
   "id": "bfab43ae",
   "metadata": {},
   "outputs": [],
   "source": [
    "# def clean_df(df, f_path):\n",
    "#     df[\"cleaned_tweet\"] = df[\"tweet\"].apply(lambda s: preprocessing(s))\n",
    "\n",
    "#     df_path = f_path.parent/\"cleaned\"/f\"cleaned_{f_path.name}\"\n",
    "#     df_path.parent.mkdir(parents=True, exist_ok=True)\n",
    "#     df.to_csv(df_path)\n",
    "#     return df_path"
   ]
  },
  {
   "cell_type": "code",
   "execution_count": 9,
   "id": "e8ae59a3",
   "metadata": {},
   "outputs": [],
   "source": [
    "train_df = pd.read_csv(train_f)\n",
    "test_df = pd.read_csv(test_f)\n",
    "full_df = pd.read_csv(full_f)"
   ]
  },
  {
   "cell_type": "code",
   "execution_count": 10,
   "id": "d11ecdf9",
   "metadata": {},
   "outputs": [
    {
     "data": {
      "text/plain": [
       "PosixPath('data/full_data/cleaned/cleaned_encoded_full_data.csv')"
      ]
     },
     "execution_count": 10,
     "metadata": {},
     "output_type": "execute_result"
    }
   ],
   "source": [
    "clean_df(train_df,train_f)\n",
    "clean_df(test_df,test_f)\n",
    "clean_df(full_df,full_f)"
   ]
  },
  {
   "cell_type": "code",
   "execution_count": 13,
   "id": "7aeb7298",
   "metadata": {},
   "outputs": [
    {
     "data": {
      "text/plain": [
       "PosixPath('data/test_data/cleaned/cleaned_politicES_phase_2_test_public.csv')"
      ]
     },
     "execution_count": 13,
     "metadata": {},
     "output_type": "execute_result"
    }
   ],
   "source": [
    "test_df = pd.read_csv(test_f)\n",
    "clean_df_test_data(test_df,test_f)"
   ]
  },
  {
   "attachments": {},
   "cell_type": "markdown",
   "id": "9b1d6ae3",
   "metadata": {},
   "source": [
    "# Splitting the data into train and validation"
   ]
  },
  {
   "cell_type": "code",
   "execution_count": 44,
   "id": "76cb5654",
   "metadata": {},
   "outputs": [],
   "source": [
    "# This function samples an equal number of tweets from every possible combination of the columns 'gender', 'profession', 'ideology_multiclass'.\n",
    "def equal_combinations_sample_df(df, combination_cols, n_per_combination, random_state=42):\n",
    "    \"\"\" Sample an equal number of tweets from every possible combination of the columns in 'combination_cols'.\n",
    "        The number of tweets per combination is specified by 'n_per_combination'.\n",
    "        The resulting dataframe is not shuffled.\n",
    "    \"\"\"\n",
    "    try:\n",
    "        df = df.groupby(combination_cols).apply(lambda x: x.sample(n_per_combination, replace=False, random_state=random_state))\n",
    "    except ValueError:\n",
    "        print(f\"Warning: not enough tweets to sample {n_per_combination} tweets per combination. Falling back to sampling with replacement.\")\n",
    "        df = df.groupby(combination_cols).apply(lambda x: x.sample(n_per_combination, replace=True, random_state=random_state))\n",
    "    \n",
    "    df = df.reset_index(drop=True)\n",
    "    return df\n",
    "\n",
    "\n",
    "\n",
    "# This function splits the full dataset into a train and validation set.\n",
    "def split_df(read_f_path, write_file_name, combination_cols, n_val_per_feature_combination, random_state=42):\n",
    "    \"\"\" Split the full dataset into a train and validation set.\n",
    "        The validation set is sampled from every possible combination of the columns in 'combination_cols'.\n",
    "        The number of tweets per combination is specified by 'n_val_per_feature_combination'.\n",
    "        The resulting train dataframe is shuffled.\n",
    "    \"\"\"\n",
    "    # Read the full dataset\n",
    "    df = pd.read_csv(read_f_path)\n",
    "\n",
    "    # Create validation set with equal number of tweets per feature combination\n",
    "    val_df = equal_combinations_sample_df(df, combination_cols, n_val_per_feature_combination, random_state)\n",
    "\n",
    "    # Create train set by dropping the validation set\n",
    "    train_df = df.drop(val_df.index)\n",
    "\n",
    "    # Shuffle the train set\n",
    "    train_df = train_df.sample(frac=1, random_state=random_state).reset_index(drop=True)\n",
    "\n",
    "    # Drop the 'Unnamed: 0' column\n",
    "    train_df = train_df.drop(columns=['Unnamed: 0'])\n",
    "    val_df = val_df.drop(columns=['Unnamed: 0'])\n",
    "\n",
    "    # Save the train and validation sets\n",
    "    train_path = read_f_path.parent/f\"train_{write_file_name}.csv\"\n",
    "    val_path = read_f_path.parent/f\"val_{write_file_name}.csv\"\n",
    "    train_path.parent.mkdir(parents=True, exist_ok=True)\n",
    "    val_path.parent.mkdir(parents=True, exist_ok=True)\n",
    "    train_df.to_csv(train_path)\n",
    "    val_df.to_csv(val_path)\n",
    "    return train_path, val_path"
   ]
  },
  {
   "cell_type": "code",
   "execution_count": 12,
   "id": "0b59c4a9",
   "metadata": {},
   "outputs": [
    {
     "name": "stdout",
     "output_type": "stream",
     "text": [
      "Warning: not enough tweets to sample 200 tweets per combination. Falling back to sampling with replacement.\n"
     ]
    },
    {
     "data": {
      "text/plain": [
       "(PosixPath('data/full_data/cleaned/train_clean_encoded.csv'),\n",
       " PosixPath('data/full_data/cleaned/val_clean_encoded.csv'))"
      ]
     },
     "execution_count": 12,
     "metadata": {},
     "output_type": "execute_result"
    }
   ],
   "source": [
    "full_cleaned_encoded_f= Path('data/full_data/cleaned/cleaned_encoded_full_data.csv')\n",
    "\n",
    "split_df(read_f_path = full_cleaned_encoded_f,\n",
    "        write_file_name = 'clean_encoded',\n",
    "        combination_cols = ['gender', 'profession', 'ideology_multiclass'],\n",
    "        n_val_per_feature_combination = 200)"
   ]
  },
  {
   "attachments": {},
   "cell_type": "markdown",
   "id": "8d327a10",
   "metadata": {},
   "source": [
    "# Inspect the full dataset"
   ]
  },
  {
   "cell_type": "code",
   "execution_count": 23,
   "metadata": {
    "collapsed": false
   },
   "outputs": [
    {
     "name": "stdout",
     "output_type": "stream",
     "text": [
      "female,politician,left 6240\n",
      "female,politician,right 3280\n",
      "female,politician,moderate_left 8000\n",
      "female,politician,moderate_right 6560\n",
      "female,journalist,left 7040\n",
      "female,journalist,right 1440\n",
      "female,journalist,moderate_left 15040\n",
      "female,journalist,moderate_right 9280\n",
      "female,celebrity,left 320\n",
      "female,celebrity,right 0\n",
      "female,celebrity,moderate_left 2720\n",
      "female,celebrity,moderate_right 640\n",
      "male,politician,left 9120\n",
      "male,politician,right 5520\n",
      "male,politician,moderate_left 11280\n",
      "male,politician,moderate_right 10160\n",
      "male,journalist,left 11600\n",
      "male,journalist,right 10480\n",
      "male,journalist,moderate_left 25120\n",
      "male,journalist,moderate_right 30800\n",
      "male,celebrity,left 80\n",
      "male,celebrity,right 640\n",
      "male,celebrity,moderate_left 3840\n",
      "male,celebrity,moderate_right 800\n"
     ]
    }
   ],
   "source": [
    "from pathlib import Path\n",
    "import pandas as pd\n",
    "import numpy as np\n",
    "\n",
    "fulldata= Path('data/full_data/cleaned/_old/cleaned_full_data.csv')\n",
    "df = pd.read_csv(fulldata)\n",
    "\n",
    "# Create array to store all the combinations\n",
    "n_gender = df['gender'].nunique()\n",
    "n_profession = df['profession'].nunique()\n",
    "n_ideology_multiclass = df['ideology_multiclass'].nunique()\n",
    "\n",
    "combinations = np.zeros((n_gender, n_profession, n_ideology_multiclass))\n",
    "\n",
    "\n",
    "genders  = ['female','male']\n",
    "professions = ['politician','journalist','celebrity']\n",
    "ideology_multiclasses = ['left','right','moderate_left', 'moderate_right']\n",
    "\n",
    "\n",
    "for i, gender in enumerate(genders):\n",
    "    for j, profession in enumerate(professions):\n",
    "        for k, ideology in enumerate(ideology_multiclasses):\n",
    "            selected_df = df.iloc[\n",
    "                list((df.gender == gender) & \\\n",
    "                    (df.profession == profession)& \\\n",
    "                    (df.ideology_multiclass == ideology)), \n",
    "                :,\n",
    "            ]\n",
    "            print(f\"{gender},{profession},{ideology}\",len(selected_df))\n",
    "            combinations[i,j,k] = len(selected_df)\n",
    "\n"
   ]
  },
  {
   "cell_type": "code",
   "execution_count": 24,
   "id": "3b3e6562",
   "metadata": {},
   "outputs": [
    {
     "data": {
      "image/png": "[encoded data removed]",
      "text/plain": [
       "<Figure size 1200x800 with 1 Axes>"
      ]
     },
     "metadata": {},
     "output_type": "display_data"
    }
   ],
   "source": [
    "import matplotlib.pyplot as plt\n",
    "\n",
    "# Flatten the combinations array\n",
    "combinations_flat = combinations.flatten()\n",
    "\n",
    "# Create a list of labels for the x-axis\n",
    "labels = [f\"{g}, {p}, {i}\" for g in genders for p in professions for i in ideology_multiclasses]\n",
    "\n",
    "# Create a bar chart with the flattened combinations array and the labels\n",
    "fig, ax = plt.subplots(figsize=(12,8))\n",
    "ax.bar(labels, combinations_flat)\n",
    "\n",
    "# Set the x-tick labels to be rotated for better readability\n",
    "plt.xticks(rotation=90)\n",
    "\n",
    "# Set the title and axis labels\n",
    "plt.title(\"Combinations of Gender, Profession, and Ideology\")\n",
    "plt.xlabel(\"Gender, Profession, and Ideology\")\n",
    "plt.ylabel(\"Number of Tweets\")\n",
    "\n",
    "plt.show()"
   ]
  },
  {
   "attachments": {},
   "cell_type": "markdown",
   "id": "7d1995e5",
   "metadata": {},
   "source": [
    "# Upsampling the training data"
   ]
  },
  {
   "cell_type": "code",
   "execution_count": 3,
   "id": "bb03fa83",
   "metadata": {},
   "outputs": [],
   "source": [
    "def upsample_df(df, features):\n",
    "    # Determine the maximum number of samples for any feature combination\n",
    "    max_samples = df.groupby(features).size().max()\n",
    "    \n",
    "    # Create an empty dataframe to store the upsampled data\n",
    "    balanced_df = pd.DataFrame(columns=df.columns)\n",
    "    \n",
    "    # Loop over each unique combination of features\n",
    "    for i, group in df.groupby(features):\n",
    "        # Determine the number of samples to generate to make the data balanced\n",
    "        n_samples = max_samples - len(group)\n",
    "        \n",
    "        # If the number of samples for the current combination is less than the maximum number of samples for any combination, upsample the data\n",
    "        if n_samples > 0:\n",
    "            # Upsample the data\n",
    "            upsampled_group = resample(group, replace=True, n_samples=n_samples)\n",
    "            \n",
    "            # Append the upsampled data to the balanced dataframe\n",
    "            balanced_df = pd.concat([balanced_df, group, upsampled_group], ignore_index=True)\n",
    "        else:\n",
    "            # If the number of samples for the current combination is already at the maximum, just append the group to the balanced dataframe\n",
    "            balanced_df = pd.concat([balanced_df, group], ignore_index=True)\n",
    "    \n",
    "    \n",
    "    \n",
    "\n",
    "    # Cast columns to their original data types\n",
    "    for col in df.columns:\n",
    "        balanced_df[col] = balanced_df[col].astype(df[col].dtype)\n",
    "\n",
    "    # Drop the 'Unnamed: 0' column\n",
    "    balanced_df = balanced_df.drop(columns=['Unnamed: 0'])\n",
    "    \n",
    "    return balanced_df"
   ]
  },
  {
   "cell_type": "code",
   "execution_count": 4,
   "id": "bc430441",
   "metadata": {},
   "outputs": [],
   "source": [
    "path= Path('data/full_data/cleaned/train_clean_encoded.csv')\n",
    "df = pd.read_csv(path)\n",
    "\n",
    "\n",
    "df = upsample_df(df, ['gender', 'profession', 'ideology_multiclass'])\n",
    "df.to_csv('data/full_data/cleaned/train_clean_encoded_balanced.csv')"
   ]
  },
  {
   "cell_type": "code",
   "execution_count": 8,
   "id": "b634c7e3",
   "metadata": {},
   "outputs": [
    {
     "name": "stdout",
     "output_type": "stream",
     "text": [
      "0,0,0 30080\n",
      "0,0,1 30080\n",
      "0,0,2 30080\n",
      "0,0,3 0\n",
      "0,1,0 30080\n",
      "0,1,1 30080\n",
      "0,1,2 30080\n",
      "0,1,3 30080\n",
      "0,2,0 30080\n",
      "0,2,1 30080\n",
      "0,2,2 30080\n",
      "0,2,3 30080\n",
      "1,0,0 30080\n",
      "1,0,1 30080\n",
      "1,0,2 30080\n",
      "1,0,3 30080\n",
      "1,1,0 30080\n",
      "1,1,1 30080\n",
      "1,1,2 30080\n",
      "1,1,3 30080\n",
      "1,2,0 30080\n",
      "1,2,1 30080\n",
      "1,2,2 30080\n",
      "1,2,3 30080\n"
     ]
    }
   ],
   "source": [
    "# Create array to store all the combinations\n",
    "n_gender = df['gender'].nunique()\n",
    "n_profession = df['profession'].nunique()\n",
    "n_ideology_multiclass = df['ideology_multiclass'].nunique()\n",
    "\n",
    "combinations = np.zeros((n_gender, n_profession, n_ideology_multiclass))\n",
    "\n",
    "\n",
    "genders  = [0,1]\n",
    "professions = [0,1,2]\n",
    "ideology_multiclasses = [0,1,2,3]\n",
    "\n",
    "\n",
    "for i, gender in enumerate(genders):\n",
    "    for j, profession in enumerate(professions):\n",
    "        for k, ideology in enumerate(ideology_multiclasses):\n",
    "            selected_df = df.iloc[\n",
    "                list((df.gender == gender) & \\\n",
    "                    (df.profession == profession)& \\\n",
    "                    (df.ideology_multiclass == ideology)), \n",
    "                :,\n",
    "            ]\n",
    "            print(f\"{gender},{profession},{ideology}\",len(selected_df))\n",
    "            combinations[i,j,k] = len(selected_df)"
   ]
  },
  {
   "cell_type": "code",
   "execution_count": 9,
   "id": "5bc0bef5",
   "metadata": {},
   "outputs": [
    {
     "ename": "NameError",
     "evalue": "name 'plt' is not defined",
     "output_type": "error",
     "traceback": [
      "\u001b[0;31m---------------------------------------------------------------------------\u001b[0m",
      "\u001b[0;31mNameError\u001b[0m                                 Traceback (most recent call last)",
      "Cell \u001b[0;32mIn[9], line 8\u001b[0m\n\u001b[1;32m      5\u001b[0m labels \u001b[39m=\u001b[39m [\u001b[39mf\u001b[39m\u001b[39m\"\u001b[39m\u001b[39m{\u001b[39;00mg\u001b[39m}\u001b[39;00m\u001b[39m, \u001b[39m\u001b[39m{\u001b[39;00mp\u001b[39m}\u001b[39;00m\u001b[39m, \u001b[39m\u001b[39m{\u001b[39;00mi\u001b[39m}\u001b[39;00m\u001b[39m\"\u001b[39m \u001b[39mfor\u001b[39;00m g \u001b[39min\u001b[39;00m genders \u001b[39mfor\u001b[39;00m p \u001b[39min\u001b[39;00m professions \u001b[39mfor\u001b[39;00m i \u001b[39min\u001b[39;00m ideology_multiclasses]\n\u001b[1;32m      7\u001b[0m \u001b[39m# Create a bar chart with the flattened combinations array and the labels\u001b[39;00m\n\u001b[0;32m----> 8\u001b[0m fig, ax \u001b[39m=\u001b[39m plt\u001b[39m.\u001b[39msubplots(figsize\u001b[39m=\u001b[39m(\u001b[39m12\u001b[39m,\u001b[39m8\u001b[39m))\n\u001b[1;32m      9\u001b[0m ax\u001b[39m.\u001b[39mbar(labels, combinations_flat)\n\u001b[1;32m     11\u001b[0m \u001b[39m# Set the x-tick labels to be rotated for better readability\u001b[39;00m\n",
      "\u001b[0;31mNameError\u001b[0m: name 'plt' is not defined"
     ]
    }
   ],
   "source": [
    "# Flatten the combinations array\n",
    "combinations_flat = combinations.flatten()\n",
    "\n",
    "# Create a list of labels for the x-axis\n",
    "labels = [f\"{g}, {p}, {i}\" for g in genders for p in professions for i in ideology_multiclasses]\n",
    "\n",
    "# Create a bar chart with the flattened combinations array and the labels\n",
    "fig, ax = plt.subplots(figsize=(12,8))\n",
    "ax.bar(labels, combinations_flat)\n",
    "\n",
    "# Set the x-tick labels to be rotated for better readability\n",
    "plt.xticks(rotation=90)\n",
    "\n",
    "# Set the title and axis labels\n",
    "plt.title(\"Combinations of Gender, Profession, and Ideology\")\n",
    "plt.xlabel(\"Gender, Profession, and Ideology\")\n",
    "plt.ylabel(\"Number of Tweets\")\n",
    "\n",
    "plt.show()"
   ]
  },
  {
   "cell_type": "code",
   "execution_count": null,
   "id": "cb6fb831",
   "metadata": {},
   "outputs": [],
   "source": []
  }
 ],
 "metadata": {
  "kernelspec": {
   "display_name": "Python 3 (ipykernel)",
   "language": "python",
   "name": "python3"
  },
  "language_info": {
   "codemirror_mode": {
    "name": "ipython",
    "version": 3
   },
   "file_extension": ".py",
   "mimetype": "text/x-python",
   "name": "python",
   "nbconvert_exporter": "python",
   "pygments_lexer": "ipython3",
   "version": "3.10.8"
  }
 },
 "nbformat": 4,
 "nbformat_minor": 5
}
