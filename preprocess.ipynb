{
 "cells": [
  {
   "cell_type": "code",
   "execution_count": 1,
   "id": "69ba3757",
   "metadata": {},
   "outputs": [],
   "source": [
    "from pathlib import Path\n",
    "import pandas as pd\n",
    "\n",
    "import emoji\n",
    "import preprocessor as p\n",
    "import truecase\n",
    "\n",
    "p.set_options(p.OPT.URL)"
   ]
  },
  {
   "cell_type": "markdown",
   "id": "0497b586",
   "metadata": {},
   "source": [
    "# Preprocessing Function"
   ]
  },
  {
   "cell_type": "code",
   "execution_count": 2,
   "id": "03fbd292",
   "metadata": {},
   "outputs": [],
   "source": [
    "def lowercasing(sentence):\n",
    "    return str(sentence).lower()\n",
    "\n",
    "def truecasing(sentence):\n",
    "    \"\"\" Alternative function to 'lowercasing().\n",
    "        Instead of turning everything into lower case, the grammatically true case\n",
    "        is used.\"\"\"\n",
    "    return truecase.get_true_case(str(sentence))\n",
    "\n",
    "def rm_whitespace(sentence):\n",
    "    return str(sentence).strip()\n",
    "\n",
    "def replace_emoji(sentence):\n",
    "    return emoji.demojize(str(sentence))\n",
    "\n",
    "def replace_url(sentence):\n",
    "    return p.tokenize(str(sentence))"
   ]
  },
  {
   "cell_type": "code",
   "execution_count": 11,
   "id": "821ece16",
   "metadata": {},
   "outputs": [
    {
     "data": {
      "text/plain": "'Feliz Año Nuevo, Feliz Esperanza :two_hearts: . Querido 2023, ¡Allá Vamos!.'"
     },
     "execution_count": 11,
     "metadata": {},
     "output_type": "execute_result"
    }
   ],
   "source": [
    "def preprocessing(s):\n",
    "    #s = lowercasing(s)\n",
    "    s = truecasing(s)\n",
    "    s = rm_whitespace(s)\n",
    "    s = replace_emoji(s)    \n",
    "    s = replace_url(s)\n",
    "    return s\n",
    "\n",
    "\n",
    "#e.g.\n",
    "s = ' Preprocessor is #awesome 👍 https://github.com/s/preprocessor '\n",
    "preprocessing(s)"
   ]
  },
  {
   "cell_type": "markdown",
   "id": "f1eb76d8",
   "metadata": {},
   "source": [
    "# Files cleaning"
   ]
  },
  {
   "cell_type": "code",
   "execution_count": 6,
   "id": "52dc4e5c",
   "metadata": {},
   "outputs": [
    {
     "name": "stdout",
     "output_type": "stream",
     "text": [
      "[PosixPath('data/full_data/full_data.csv')]\n"
     ]
    }
   ],
   "source": [
    "datafolder = Path(\"./data/full_data/\")\n",
    "print(list(datafolder.rglob('*.csv')))\n",
    "\n",
    "train_f= Path('data/full_data/full_data.csv')\n",
    "# test_f= Path('data/full_data/development_test.csv')"
   ]
  },
  {
   "cell_type": "code",
   "execution_count": 15,
   "id": "f7f4e27e",
   "metadata": {},
   "outputs": [],
   "source": [
    "def clean_df(df, f_path):\n",
    "    df[\"cleaned_tweet\"] = df[\"tweet\"].apply(lambda s: preprocessing(s))\n",
    "\n",
    "    df_path = f_path.parent/\"cleaned\"/f\"cleaned_{f_path.name}\"\n",
    "    df_path.parent.mkdir(parents=True, exist_ok=True)\n",
    "    df.to_csv(df_path)\n",
    "    return train_df\n",
    "\n"
   ]
  },
  {
   "cell_type": "code",
   "execution_count": 16,
   "id": "e8ae59a3",
   "metadata": {},
   "outputs": [],
   "source": [
    "train_df = pd.read_csv(train_f)\n",
    "# test_df = pd.read_csv(test_f)"
   ]
  },
  {
   "cell_type": "code",
   "execution_count": 17,
   "id": "d11ecdf9",
   "metadata": {},
   "outputs": [
    {
     "data": {
      "text/plain": "                                   label  gender  profession ideology_binary  \\\n0       0008c4fab9e97623a60380ee9c88cb20  female  politician            left   \n1       0008c4fab9e97623a60380ee9c88cb20  female  politician            left   \n2       0008c4fab9e97623a60380ee9c88cb20  female  politician            left   \n3       0008c4fab9e97623a60380ee9c88cb20  female  politician            left   \n4       0008c4fab9e97623a60380ee9c88cb20  female  politician            left   \n...                                  ...     ...         ...             ...   \n179995  ffd89e81d6f6c783bfb72a4590db4304    male  politician            left   \n179996  ffd89e81d6f6c783bfb72a4590db4304    male  politician            left   \n179997  ffd89e81d6f6c783bfb72a4590db4304    male  politician            left   \n179998  ffd89e81d6f6c783bfb72a4590db4304    male  politician            left   \n179999  ffd89e81d6f6c783bfb72a4590db4304    male  politician            left   \n\n       ideology_multiclass                                              tweet  \\\n0                     left  ¡Feliz 28 de febrero a todas las andaluzas y a...   \n1                     left  Feliz año nuevo, feliz esperanza 💕. Querido 20...   \n2                     left  🇩🇪🇪🇸 ¡Un placer encontrarme con mi homólogo al...   \n3                     left  El conflicto en Ucrania ha supuesto una dramát...   \n4                     left  La Academia de la Llingua Asturiana realiza un...   \n...                    ...                                                ...   \n179995                left  Desde un inicio nos opusimos a la escalda mili...   \n179996                left  En menos de 4 minutos he tratado de analizar e...   \n179997                left  Un fantasma recorre Euskal Herria y el Estado....   \n179998                left  Aquí os dejo mis reflexiones hoy en el diario ...   \n179999                left  No se trata de sobreactuar o \"condenar\" unas p...   \n\n                                            cleaned_tweet  \n0       ¡Feliz 28 de Febrero a Todas Las Andaluzas Y A...  \n1       Feliz Año Nuevo, Feliz Esperanza :two_hearts: ...  \n2       :Germany::Spain: ¡Un Placer Encontrarme con MI...  \n3       El Conflicto en Ucrania ha Supuesto Una Dramát...  \n4       La academia de la Llingua Asturiana Realiza UN...  \n...                                                   ...  \n179995  Desde UN Inicio nos Opusimos a La Escalda Mili...  \n179996  En Menos de 4 Minutos he Tratado de Analizar E...  \n179997  Un Fantasma Recorre Euskal Herria Y El Estado ...  \n179998  Aquí os Dejo MIS Reflexiones Hoy en El Diario ...  \n179999  No se Trata de Sobreactuar O \"Condenar\" Unas P...  \n\n[180000 rows x 7 columns]",
      "text/html": "<div>\n<style scoped>\n    .dataframe tbody tr th:only-of-type {\n        vertical-align: middle;\n    }\n\n    .dataframe tbody tr th {\n        vertical-align: top;\n    }\n\n    .dataframe thead th {\n        text-align: right;\n    }\n</style>\n<table border=\"1\" class=\"dataframe\">\n  <thead>\n    <tr style=\"text-align: right;\">\n      <th></th>\n      <th>label</th>\n      <th>gender</th>\n      <th>profession</th>\n      <th>ideology_binary</th>\n      <th>ideology_multiclass</th>\n      <th>tweet</th>\n      <th>cleaned_tweet</th>\n    </tr>\n  </thead>\n  <tbody>\n    <tr>\n      <th>0</th>\n      <td>0008c4fab9e97623a60380ee9c88cb20</td>\n      <td>female</td>\n      <td>politician</td>\n      <td>left</td>\n      <td>left</td>\n      <td>¡Feliz 28 de febrero a todas las andaluzas y a...</td>\n      <td>¡Feliz 28 de Febrero a Todas Las Andaluzas Y A...</td>\n    </tr>\n    <tr>\n      <th>1</th>\n      <td>0008c4fab9e97623a60380ee9c88cb20</td>\n      <td>female</td>\n      <td>politician</td>\n      <td>left</td>\n      <td>left</td>\n      <td>Feliz año nuevo, feliz esperanza 💕. Querido 20...</td>\n      <td>Feliz Año Nuevo, Feliz Esperanza :two_hearts: ...</td>\n    </tr>\n    <tr>\n      <th>2</th>\n      <td>0008c4fab9e97623a60380ee9c88cb20</td>\n      <td>female</td>\n      <td>politician</td>\n      <td>left</td>\n      <td>left</td>\n      <td>🇩🇪🇪🇸 ¡Un placer encontrarme con mi homólogo al...</td>\n      <td>:Germany::Spain: ¡Un Placer Encontrarme con MI...</td>\n    </tr>\n    <tr>\n      <th>3</th>\n      <td>0008c4fab9e97623a60380ee9c88cb20</td>\n      <td>female</td>\n      <td>politician</td>\n      <td>left</td>\n      <td>left</td>\n      <td>El conflicto en Ucrania ha supuesto una dramát...</td>\n      <td>El Conflicto en Ucrania ha Supuesto Una Dramát...</td>\n    </tr>\n    <tr>\n      <th>4</th>\n      <td>0008c4fab9e97623a60380ee9c88cb20</td>\n      <td>female</td>\n      <td>politician</td>\n      <td>left</td>\n      <td>left</td>\n      <td>La Academia de la Llingua Asturiana realiza un...</td>\n      <td>La academia de la Llingua Asturiana Realiza UN...</td>\n    </tr>\n    <tr>\n      <th>...</th>\n      <td>...</td>\n      <td>...</td>\n      <td>...</td>\n      <td>...</td>\n      <td>...</td>\n      <td>...</td>\n      <td>...</td>\n    </tr>\n    <tr>\n      <th>179995</th>\n      <td>ffd89e81d6f6c783bfb72a4590db4304</td>\n      <td>male</td>\n      <td>politician</td>\n      <td>left</td>\n      <td>left</td>\n      <td>Desde un inicio nos opusimos a la escalda mili...</td>\n      <td>Desde UN Inicio nos Opusimos a La Escalda Mili...</td>\n    </tr>\n    <tr>\n      <th>179996</th>\n      <td>ffd89e81d6f6c783bfb72a4590db4304</td>\n      <td>male</td>\n      <td>politician</td>\n      <td>left</td>\n      <td>left</td>\n      <td>En menos de 4 minutos he tratado de analizar e...</td>\n      <td>En Menos de 4 Minutos he Tratado de Analizar E...</td>\n    </tr>\n    <tr>\n      <th>179997</th>\n      <td>ffd89e81d6f6c783bfb72a4590db4304</td>\n      <td>male</td>\n      <td>politician</td>\n      <td>left</td>\n      <td>left</td>\n      <td>Un fantasma recorre Euskal Herria y el Estado....</td>\n      <td>Un Fantasma Recorre Euskal Herria Y El Estado ...</td>\n    </tr>\n    <tr>\n      <th>179998</th>\n      <td>ffd89e81d6f6c783bfb72a4590db4304</td>\n      <td>male</td>\n      <td>politician</td>\n      <td>left</td>\n      <td>left</td>\n      <td>Aquí os dejo mis reflexiones hoy en el diario ...</td>\n      <td>Aquí os Dejo MIS Reflexiones Hoy en El Diario ...</td>\n    </tr>\n    <tr>\n      <th>179999</th>\n      <td>ffd89e81d6f6c783bfb72a4590db4304</td>\n      <td>male</td>\n      <td>politician</td>\n      <td>left</td>\n      <td>left</td>\n      <td>No se trata de sobreactuar o \"condenar\" unas p...</td>\n      <td>No se Trata de Sobreactuar O \"Condenar\" Unas P...</td>\n    </tr>\n  </tbody>\n</table>\n<p>180000 rows × 7 columns</p>\n</div>"
     },
     "execution_count": 17,
     "metadata": {},
     "output_type": "execute_result"
    }
   ],
   "source": [
    "clean_df(train_df,train_f)\n",
    "# clean_df(test_df,test_f)"
   ]
  },
  {
   "cell_type": "code",
   "execution_count": null,
   "outputs": [],
   "source": [],
   "metadata": {
    "collapsed": false
   }
  }
 ],
 "metadata": {
  "kernelspec": {
   "display_name": "Python 3 (ipykernel)",
   "language": "python",
   "name": "python3"
  },
  "language_info": {
   "codemirror_mode": {
    "name": "ipython",
    "version": 3
   },
   "file_extension": ".py",
   "mimetype": "text/x-python",
   "name": "python",
   "nbconvert_exporter": "python",
   "pygments_lexer": "ipython3",
   "version": "3.10.9"
  }
 },
 "nbformat": 4,
 "nbformat_minor": 5
}
