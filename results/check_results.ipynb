{
 "cells": [
  {
   "cell_type": "code",
   "execution_count": 38,
   "metadata": {
    "collapsed": true
   },
   "outputs": [],
   "source": [
    "import pandas as pd\n",
    "import numpy as np"
   ]
  },
  {
   "cell_type": "code",
   "execution_count": 39,
   "outputs": [
    {
     "data": {
      "text/plain": "                              label gender  profession ideology_binary  \\\n0  015f536ad54d267bef6d9a08019f735f   male  journalist           right   \n1  015f536ad54d267bef6d9a08019f735f   male  journalist           right   \n2  015f536ad54d267bef6d9a08019f735f   male  journalist           right   \n3  015f536ad54d267bef6d9a08019f735f   male  journalist           right   \n4  015f536ad54d267bef6d9a08019f735f   male  journalist           right   \n\n  ideology_multiclass  \n0                left  \n1                left  \n2                left  \n3                left  \n4                left  ",
      "text/html": "<div>\n<style scoped>\n    .dataframe tbody tr th:only-of-type {\n        vertical-align: middle;\n    }\n\n    .dataframe tbody tr th {\n        vertical-align: top;\n    }\n\n    .dataframe thead th {\n        text-align: right;\n    }\n</style>\n<table border=\"1\" class=\"dataframe\">\n  <thead>\n    <tr style=\"text-align: right;\">\n      <th></th>\n      <th>label</th>\n      <th>gender</th>\n      <th>profession</th>\n      <th>ideology_binary</th>\n      <th>ideology_multiclass</th>\n    </tr>\n  </thead>\n  <tbody>\n    <tr>\n      <th>0</th>\n      <td>015f536ad54d267bef6d9a08019f735f</td>\n      <td>male</td>\n      <td>journalist</td>\n      <td>right</td>\n      <td>left</td>\n    </tr>\n    <tr>\n      <th>1</th>\n      <td>015f536ad54d267bef6d9a08019f735f</td>\n      <td>male</td>\n      <td>journalist</td>\n      <td>right</td>\n      <td>left</td>\n    </tr>\n    <tr>\n      <th>2</th>\n      <td>015f536ad54d267bef6d9a08019f735f</td>\n      <td>male</td>\n      <td>journalist</td>\n      <td>right</td>\n      <td>left</td>\n    </tr>\n    <tr>\n      <th>3</th>\n      <td>015f536ad54d267bef6d9a08019f735f</td>\n      <td>male</td>\n      <td>journalist</td>\n      <td>right</td>\n      <td>left</td>\n    </tr>\n    <tr>\n      <th>4</th>\n      <td>015f536ad54d267bef6d9a08019f735f</td>\n      <td>male</td>\n      <td>journalist</td>\n      <td>right</td>\n      <td>left</td>\n    </tr>\n  </tbody>\n</table>\n</div>"
     },
     "execution_count": 39,
     "metadata": {},
     "output_type": "execute_result"
    }
   ],
   "source": [
    "df = pd.read_csv('results_full.csv')\n",
    "df.head()"
   ],
   "metadata": {
    "collapsed": false
   }
  },
  {
   "cell_type": "code",
   "execution_count": 29,
   "outputs": [],
   "source": [
    "def fix_mismatch(row):\n",
    "    if row[\"ideology_binary\"] == \"left\" and row[\"ideology_multiclass\"] == \"right\":\n",
    "        row[\"ideology_multiclass\"] = \"moderate_left\"\n",
    "    elif row[\"ideology_binary\"] == \"right\" and row[\"ideology_multiclass\"] == \"left\":\n",
    "        row[\"ideology_multiclass\"] = \"moderate_right\"\n",
    "    return row"
   ],
   "metadata": {
    "collapsed": false
   }
  },
  {
   "cell_type": "code",
   "execution_count": 30,
   "outputs": [],
   "source": [
    "df = df.apply(fix_mismatch, axis=1)"
   ],
   "metadata": {
    "collapsed": false
   }
  },
  {
   "cell_type": "code",
   "execution_count": 40,
   "outputs": [
    {
     "data": {
      "text/plain": "                              label gender  profession ideology_binary  \\\n0  015f536ad54d267bef6d9a08019f735f   male  journalist           right   \n1  015f536ad54d267bef6d9a08019f735f   male  journalist           right   \n2  015f536ad54d267bef6d9a08019f735f   male  journalist           right   \n3  015f536ad54d267bef6d9a08019f735f   male  journalist           right   \n4  015f536ad54d267bef6d9a08019f735f   male  journalist           right   \n\n  ideology_multiclass  \n0                left  \n1                left  \n2                left  \n3                left  \n4                left  ",
      "text/html": "<div>\n<style scoped>\n    .dataframe tbody tr th:only-of-type {\n        vertical-align: middle;\n    }\n\n    .dataframe tbody tr th {\n        vertical-align: top;\n    }\n\n    .dataframe thead th {\n        text-align: right;\n    }\n</style>\n<table border=\"1\" class=\"dataframe\">\n  <thead>\n    <tr style=\"text-align: right;\">\n      <th></th>\n      <th>label</th>\n      <th>gender</th>\n      <th>profession</th>\n      <th>ideology_binary</th>\n      <th>ideology_multiclass</th>\n    </tr>\n  </thead>\n  <tbody>\n    <tr>\n      <th>0</th>\n      <td>015f536ad54d267bef6d9a08019f735f</td>\n      <td>male</td>\n      <td>journalist</td>\n      <td>right</td>\n      <td>left</td>\n    </tr>\n    <tr>\n      <th>1</th>\n      <td>015f536ad54d267bef6d9a08019f735f</td>\n      <td>male</td>\n      <td>journalist</td>\n      <td>right</td>\n      <td>left</td>\n    </tr>\n    <tr>\n      <th>2</th>\n      <td>015f536ad54d267bef6d9a08019f735f</td>\n      <td>male</td>\n      <td>journalist</td>\n      <td>right</td>\n      <td>left</td>\n    </tr>\n    <tr>\n      <th>3</th>\n      <td>015f536ad54d267bef6d9a08019f735f</td>\n      <td>male</td>\n      <td>journalist</td>\n      <td>right</td>\n      <td>left</td>\n    </tr>\n    <tr>\n      <th>4</th>\n      <td>015f536ad54d267bef6d9a08019f735f</td>\n      <td>male</td>\n      <td>journalist</td>\n      <td>right</td>\n      <td>left</td>\n    </tr>\n  </tbody>\n</table>\n</div>"
     },
     "execution_count": 40,
     "metadata": {},
     "output_type": "execute_result"
    }
   ],
   "source": [
    "df.head()"
   ],
   "metadata": {
    "collapsed": false
   }
  },
  {
   "cell_type": "code",
   "execution_count": 41,
   "outputs": [
    {
     "data": {
      "text/plain": "                                label gender  profession ideology_binary  \\\n0    015f536ad54d267bef6d9a08019f735f   male  journalist           right   \n80   0281b081d05d7eeeca8be8cd6fbda012   male  journalist            left   \n160  02847e9520c09383f0eef78bf0a2db3f   male  politician            left   \n240  02e0f6e09f29697d56432c85054b0c30   male  journalist            left   \n320  03056ef7c5f0da9e1c55b15d5fdd4f04   male  journalist            left   \n\n    ideology_multiclass  \n0                  left  \n80        moderate_left  \n160       moderate_left  \n240       moderate_left  \n320       moderate_left  ",
      "text/html": "<div>\n<style scoped>\n    .dataframe tbody tr th:only-of-type {\n        vertical-align: middle;\n    }\n\n    .dataframe tbody tr th {\n        vertical-align: top;\n    }\n\n    .dataframe thead th {\n        text-align: right;\n    }\n</style>\n<table border=\"1\" class=\"dataframe\">\n  <thead>\n    <tr style=\"text-align: right;\">\n      <th></th>\n      <th>label</th>\n      <th>gender</th>\n      <th>profession</th>\n      <th>ideology_binary</th>\n      <th>ideology_multiclass</th>\n    </tr>\n  </thead>\n  <tbody>\n    <tr>\n      <th>0</th>\n      <td>015f536ad54d267bef6d9a08019f735f</td>\n      <td>male</td>\n      <td>journalist</td>\n      <td>right</td>\n      <td>left</td>\n    </tr>\n    <tr>\n      <th>80</th>\n      <td>0281b081d05d7eeeca8be8cd6fbda012</td>\n      <td>male</td>\n      <td>journalist</td>\n      <td>left</td>\n      <td>moderate_left</td>\n    </tr>\n    <tr>\n      <th>160</th>\n      <td>02847e9520c09383f0eef78bf0a2db3f</td>\n      <td>male</td>\n      <td>politician</td>\n      <td>left</td>\n      <td>moderate_left</td>\n    </tr>\n    <tr>\n      <th>240</th>\n      <td>02e0f6e09f29697d56432c85054b0c30</td>\n      <td>male</td>\n      <td>journalist</td>\n      <td>left</td>\n      <td>moderate_left</td>\n    </tr>\n    <tr>\n      <th>320</th>\n      <td>03056ef7c5f0da9e1c55b15d5fdd4f04</td>\n      <td>male</td>\n      <td>journalist</td>\n      <td>left</td>\n      <td>moderate_left</td>\n    </tr>\n  </tbody>\n</table>\n</div>"
     },
     "execution_count": 41,
     "metadata": {},
     "output_type": "execute_result"
    }
   ],
   "source": [
    "df_unique = df.drop_duplicates()\n",
    "df_unique.head()"
   ],
   "metadata": {
    "collapsed": false
   }
  },
  {
   "cell_type": "code",
   "execution_count": 42,
   "outputs": [],
   "source": [
    "with open('results.csv', 'w') as f:\n",
    "    df_unique.to_csv(f, index=False)"
   ],
   "metadata": {
    "collapsed": false
   }
  },
  {
   "cell_type": "code",
   "execution_count": null,
   "outputs": [],
   "source": [],
   "metadata": {
    "collapsed": false
   }
  }
 ],
 "metadata": {
  "kernelspec": {
   "display_name": "Python 3",
   "language": "python",
   "name": "python3"
  },
  "language_info": {
   "codemirror_mode": {
    "name": "ipython",
    "version": 2
   },
   "file_extension": ".py",
   "mimetype": "text/x-python",
   "name": "python",
   "nbconvert_exporter": "python",
   "pygments_lexer": "ipython2",
   "version": "2.7.6"
  }
 },
 "nbformat": 4,
 "nbformat_minor": 0
}
