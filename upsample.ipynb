{
 "cells": [
  {
   "cell_type": "code",
   "execution_count": 13,
   "outputs": [
    {
     "name": "stdout",
     "output_type": "stream",
     "text": [
      "Collecting sklearn\r\n",
      "  Downloading sklearn-0.0.post4.tar.gz (3.6 kB)\r\n",
      "Building wheels for collected packages: sklearn\r\n",
      "  Building wheel for sklearn (setup.py) ... \u001B[?25ldone\r\n",
      "\u001B[?25h  Created wheel for sklearn: filename=sklearn-0.0.post4-py3-none-any.whl size=2971 sha256=af95ab2f185eb74ee453794c6f4ee78eb492308ae7ad99230f136734db6d2f7a\r\n",
      "  Stored in directory: /Users/michelle/Library/Caches/pip/wheels/d5/b2/a9/590d15767d34955f20a9a033e8db973b79cb5672d95790c0a9\r\n",
      "Successfully built sklearn\r\n",
      "Installing collected packages: sklearn\r\n",
      "Successfully installed sklearn-0.0.post4\r\n"
     ]
    }
   ],
   "source": [
    "! pip install sklearn"
   ],
   "metadata": {
    "collapsed": false
   }
  },
  {
   "cell_type": "code",
   "execution_count": 14,
   "metadata": {
    "collapsed": true
   },
   "outputs": [],
   "source": [
    "import pandas as pd\n",
    "import numpy as np\n",
    "from sklearn.utils import resample"
   ]
  },
  {
   "cell_type": "code",
   "execution_count": 3,
   "outputs": [
    {
     "data": {
      "text/plain": "   Unnamed: 0                             label  gender  profession  \\\n0           0  afcc013c3916c89a60be2c914614c6f9       1           1   \n1           1  ab295ba0d9eac21c6fb0ae4451a20438       1           1   \n2           2  8b55077316ee44d8f3d3f59b7de56c70       0           2   \n3           3  22361befcf0697c62bcb26e57c9db75d       1           0   \n4           4  de95701d663fa10a46561cd781b09024       0           1   \n\n   ideology_binary  ideology_multiclass  \\\n0                0                    1   \n1                1                    3   \n2                0                    0   \n3                0                    1   \n4                1                    2   \n\n                                               tweet  \\\n0  El Ministerio de Defensa ruso está realizando ...   \n1  @user No leo Babelia ni, por supuesto, El País...   \n2  Cinco refugiados, acogidos por ⁦@user ⁩ y que ...   \n3  Después de tocar nos presentó @user . Hablamos...   \n4  [POLITICIAN] se arrepiente y convierte sus «ac...   \n\n                                       cleaned_tweet  \n0  El Ministerio de Defensa ruso está realizando ...  \n1  @user No leo Babelia ni, por supuesto, El País...  \n2  Cinco refugiados, acogidos por ⁦@user ⁩ y que ...  \n3  Después de tocar nos presentó @user . Hablamos...  \n4  [POLITICIAN] se arrepiente y convierte sus «ac...  ",
      "text/html": "<div>\n<style scoped>\n    .dataframe tbody tr th:only-of-type {\n        vertical-align: middle;\n    }\n\n    .dataframe tbody tr th {\n        vertical-align: top;\n    }\n\n    .dataframe thead th {\n        text-align: right;\n    }\n</style>\n<table border=\"1\" class=\"dataframe\">\n  <thead>\n    <tr style=\"text-align: right;\">\n      <th></th>\n      <th>Unnamed: 0</th>\n      <th>label</th>\n      <th>gender</th>\n      <th>profession</th>\n      <th>ideology_binary</th>\n      <th>ideology_multiclass</th>\n      <th>tweet</th>\n      <th>cleaned_tweet</th>\n    </tr>\n  </thead>\n  <tbody>\n    <tr>\n      <th>0</th>\n      <td>0</td>\n      <td>afcc013c3916c89a60be2c914614c6f9</td>\n      <td>1</td>\n      <td>1</td>\n      <td>0</td>\n      <td>1</td>\n      <td>El Ministerio de Defensa ruso está realizando ...</td>\n      <td>El Ministerio de Defensa ruso está realizando ...</td>\n    </tr>\n    <tr>\n      <th>1</th>\n      <td>1</td>\n      <td>ab295ba0d9eac21c6fb0ae4451a20438</td>\n      <td>1</td>\n      <td>1</td>\n      <td>1</td>\n      <td>3</td>\n      <td>@user No leo Babelia ni, por supuesto, El País...</td>\n      <td>@user No leo Babelia ni, por supuesto, El País...</td>\n    </tr>\n    <tr>\n      <th>2</th>\n      <td>2</td>\n      <td>8b55077316ee44d8f3d3f59b7de56c70</td>\n      <td>0</td>\n      <td>2</td>\n      <td>0</td>\n      <td>0</td>\n      <td>Cinco refugiados, acogidos por ⁦@user ⁩ y que ...</td>\n      <td>Cinco refugiados, acogidos por ⁦@user ⁩ y que ...</td>\n    </tr>\n    <tr>\n      <th>3</th>\n      <td>3</td>\n      <td>22361befcf0697c62bcb26e57c9db75d</td>\n      <td>1</td>\n      <td>0</td>\n      <td>0</td>\n      <td>1</td>\n      <td>Después de tocar nos presentó @user . Hablamos...</td>\n      <td>Después de tocar nos presentó @user . Hablamos...</td>\n    </tr>\n    <tr>\n      <th>4</th>\n      <td>4</td>\n      <td>de95701d663fa10a46561cd781b09024</td>\n      <td>0</td>\n      <td>1</td>\n      <td>1</td>\n      <td>2</td>\n      <td>[POLITICIAN] se arrepiente y convierte sus «ac...</td>\n      <td>[POLITICIAN] se arrepiente y convierte sus «ac...</td>\n    </tr>\n  </tbody>\n</table>\n</div>"
     },
     "execution_count": 3,
     "metadata": {},
     "output_type": "execute_result"
    }
   ],
   "source": [
    "df = pd.read_csv('data/full_data/cleaned/train_clean_encoded.csv')\n",
    "df.head()"
   ],
   "metadata": {
    "collapsed": false
   }
  },
  {
   "cell_type": "code",
   "execution_count": 4,
   "outputs": [
    {
     "name": "stdout",
     "output_type": "stream",
     "text": [
      "<class 'pandas.core.frame.DataFrame'>\n",
      "RangeIndex: 175400 entries, 0 to 175399\n",
      "Data columns (total 8 columns):\n",
      " #   Column               Non-Null Count   Dtype \n",
      "---  ------               --------------   ----- \n",
      " 0   Unnamed: 0           175400 non-null  int64 \n",
      " 1   label                175400 non-null  object\n",
      " 2   gender               175400 non-null  int64 \n",
      " 3   profession           175400 non-null  int64 \n",
      " 4   ideology_binary      175400 non-null  int64 \n",
      " 5   ideology_multiclass  175400 non-null  int64 \n",
      " 6   tweet                175400 non-null  object\n",
      " 7   cleaned_tweet        175400 non-null  object\n",
      "dtypes: int64(5), object(3)\n",
      "memory usage: 10.7+ MB\n"
     ]
    }
   ],
   "source": [
    "df.info()"
   ],
   "metadata": {
    "collapsed": false
   }
  },
  {
   "cell_type": "code",
   "execution_count": 23,
   "outputs": [
    {
     "data": {
      "text/plain": "1    116480\n0     58920\nName: gender, dtype: int64"
     },
     "execution_count": 23,
     "metadata": {},
     "output_type": "execute_result"
    }
   ],
   "source": [
    "attr = 'gender' # change according to which attribute/category you want to upsample\n",
    "df[attr].value_counts()"
   ],
   "metadata": {
    "collapsed": false
   }
  },
  {
   "cell_type": "code",
   "execution_count": 16,
   "outputs": [],
   "source": [
    "df_majority = df[df[attr] == 1]  # replace '0' with the majority class label\n",
    "df_minority = df[df[attr] == 0]  # replace '1' with the minority class label"
   ],
   "metadata": {
    "collapsed": false
   }
  },
  {
   "cell_type": "code",
   "execution_count": 17,
   "outputs": [],
   "source": [
    "df_minority_upsampled = resample(df_minority,\n",
    "                                 replace=True,  # sample with replacement\n",
    "                                 n_samples=len(df_majority),  # to match majority class\n",
    "                                 random_state=42)  # reproducible results"
   ],
   "metadata": {
    "collapsed": false
   }
  },
  {
   "cell_type": "code",
   "execution_count": 22,
   "outputs": [
    {
     "name": "stdout",
     "output_type": "stream",
     "text": [
      "<class 'pandas.core.frame.DataFrame'>\n",
      "Int64Index: 232960 entries, 0 to 134298\n",
      "Data columns (total 8 columns):\n",
      " #   Column               Non-Null Count   Dtype \n",
      "---  ------               --------------   ----- \n",
      " 0   Unnamed: 0           232960 non-null  int64 \n",
      " 1   label                232960 non-null  object\n",
      " 2   gender               232960 non-null  int64 \n",
      " 3   profession           232960 non-null  int64 \n",
      " 4   ideology_binary      232960 non-null  int64 \n",
      " 5   ideology_multiclass  232960 non-null  int64 \n",
      " 6   tweet                232960 non-null  object\n",
      " 7   cleaned_tweet        232960 non-null  object\n",
      "dtypes: int64(5), object(3)\n",
      "memory usage: 16.0+ MB\n"
     ]
    },
    {
     "ename": "NameError",
     "evalue": "name 'attr' is not defined",
     "output_type": "error",
     "traceback": [
      "\u001B[0;31m---------------------------------------------------------------------------\u001B[0m",
      "\u001B[0;31mNameError\u001B[0m                                 Traceback (most recent call last)",
      "\u001B[0;32m<ipython-input-22-9352c4cc2b24>\u001B[0m in \u001B[0;36m<module>\u001B[0;34m\u001B[0m\n\u001B[1;32m      1\u001B[0m \u001B[0mdf_upsampled\u001B[0m \u001B[0;34m=\u001B[0m \u001B[0mpd\u001B[0m\u001B[0;34m.\u001B[0m\u001B[0mconcat\u001B[0m\u001B[0;34m(\u001B[0m\u001B[0;34m[\u001B[0m\u001B[0mdf_majority\u001B[0m\u001B[0;34m,\u001B[0m \u001B[0mdf_minority_upsampled\u001B[0m\u001B[0;34m]\u001B[0m\u001B[0;34m)\u001B[0m\u001B[0;34m\u001B[0m\u001B[0;34m\u001B[0m\u001B[0m\n\u001B[0;32m----> 2\u001B[0;31m \u001B[0mdf_upsampled\u001B[0m\u001B[0;34m.\u001B[0m\u001B[0mhead\u001B[0m\u001B[0;34m(\u001B[0m\u001B[0;34m)\u001B[0m\u001B[0;34m,\u001B[0m \u001B[0mdf_upsampled\u001B[0m\u001B[0;34m.\u001B[0m\u001B[0minfo\u001B[0m\u001B[0;34m(\u001B[0m\u001B[0;34m)\u001B[0m\u001B[0;34m,\u001B[0m \u001B[0mdf_upsampled\u001B[0m\u001B[0;34m[\u001B[0m\u001B[0mattr\u001B[0m\u001B[0;34m]\u001B[0m\u001B[0;34m.\u001B[0m\u001B[0mvalue_counts\u001B[0m\u001B[0;34m(\u001B[0m\u001B[0;34m)\u001B[0m\u001B[0;34m\u001B[0m\u001B[0;34m\u001B[0m\u001B[0m\n\u001B[0m",
      "\u001B[0;31mNameError\u001B[0m: name 'attr' is not defined"
     ]
    }
   ],
   "source": [
    "df_upsampled = pd.concat([df_majority, df_minority_upsampled])"
   ],
   "metadata": {
    "collapsed": false
   }
  },
  {
   "cell_type": "code",
   "execution_count": 24,
   "outputs": [
    {
     "name": "stdout",
     "output_type": "stream",
     "text": [
      "<class 'pandas.core.frame.DataFrame'>\n",
      "Int64Index: 232960 entries, 0 to 134298\n",
      "Data columns (total 8 columns):\n",
      " #   Column               Non-Null Count   Dtype \n",
      "---  ------               --------------   ----- \n",
      " 0   Unnamed: 0           232960 non-null  int64 \n",
      " 1   label                232960 non-null  object\n",
      " 2   gender               232960 non-null  int64 \n",
      " 3   profession           232960 non-null  int64 \n",
      " 4   ideology_binary      232960 non-null  int64 \n",
      " 5   ideology_multiclass  232960 non-null  int64 \n",
      " 6   tweet                232960 non-null  object\n",
      " 7   cleaned_tweet        232960 non-null  object\n",
      "dtypes: int64(5), object(3)\n",
      "memory usage: 16.0+ MB\n"
     ]
    },
    {
     "data": {
      "text/plain": "(    Unnamed: 0                             label  gender  profession  \\\n 0            0  afcc013c3916c89a60be2c914614c6f9       1           1   \n 1            1  ab295ba0d9eac21c6fb0ae4451a20438       1           1   \n 3            3  22361befcf0697c62bcb26e57c9db75d       1           0   \n 5            5  def20f50001b539356a229d74b8c3ecc       1           2   \n 14          14  a3989a0785c6dca567540d757c273c19       1           2   \n \n     ideology_binary  ideology_multiclass  \\\n 0                 0                    1   \n 1                 1                    3   \n 3                 0                    1   \n 5                 1                    3   \n 14                1                    3   \n \n                                                 tweet  \\\n 0   El Ministerio de Defensa ruso está realizando ...   \n 1   @user No leo Babelia ni, por supuesto, El País...   \n 3   Después de tocar nos presentó @user . Hablamos...   \n 5   En FITUR con uno de los sectores más important...   \n 14  ¿No sería mejor hablarles sobre solidez famili...   \n \n                                         cleaned_tweet  \n 0   El Ministerio de Defensa ruso está realizando ...  \n 1   @user No leo Babelia ni, por supuesto, El País...  \n 3   Después de tocar nos presentó @user . Hablamos...  \n 5   En FITUR con uno de los sectores más important...  \n 14  ¿No sería mejor hablarles sobre solidez famili...  ,\n None,\n 1    116480\n 0    116480\n Name: gender, dtype: int64)"
     },
     "execution_count": 24,
     "metadata": {},
     "output_type": "execute_result"
    }
   ],
   "source": [
    "df_upsampled.head(), df_upsampled.info(), df_upsampled[attr].value_counts()"
   ],
   "metadata": {
    "collapsed": false
   }
  },
  {
   "cell_type": "code",
   "execution_count": 21,
   "outputs": [],
   "source": [
    "df_upsampled.to_csv(f'data/upsampled_data/{attr}/train_clean_encoded_upsampled.csv')"
   ],
   "metadata": {
    "collapsed": false
   }
  },
  {
   "cell_type": "code",
   "execution_count": null,
   "outputs": [],
   "source": [],
   "metadata": {
    "collapsed": false
   }
  }
 ],
 "metadata": {
  "kernelspec": {
   "display_name": "Python 3",
   "language": "python",
   "name": "python3"
  },
  "language_info": {
   "codemirror_mode": {
    "name": "ipython",
    "version": 2
   },
   "file_extension": ".py",
   "mimetype": "text/x-python",
   "name": "python",
   "nbconvert_exporter": "python",
   "pygments_lexer": "ipython2",
   "version": "2.7.6"
  }
 },
 "nbformat": 4,
 "nbformat_minor": 0
}
